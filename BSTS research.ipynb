{
 "cells": [
  {
   "cell_type": "code",
   "execution_count": 9,
   "id": "00d141e0-4ae1-482b-aeb6-128cbb55df48",
   "metadata": {},
   "outputs": [],
   "source": [
    "import warnings\n",
    "warnings.filterwarnings(\"ignore\")\n",
    "import pandas as pd\n",
    "import numpy as np\n",
    "import matplotlib.pyplot as plt\n",
    "from statsmodels.tsa.arima.model import ARIMA\n",
    "from statsmodels.tsa.stattools import acf, pacf\n",
    "from pmdarima.arima import auto_arima\n",
    "from scipy import stats\n",
    "from sklearn.model_selection import train_test_split\n",
    "import bsts\n",
    "from sklearn.metrics import mean_squared_error"
   ]
  },
  {
   "cell_type": "code",
   "execution_count": 10,
   "id": "d7790b28-4aa7-47fc-a9f1-f54f87b801a1",
   "metadata": {},
   "outputs": [],
   "source": [
    "data = []\n",
    "\n",
    "df = pd.read_excel('C:/Users/katya/OneDrive/Рабочий стол/_/НГТУ/8 семестр/КМ/новые_данные.xlsx',index_col=None, header=None)\n",
    "for i in range (0,len(df)):\n",
    "    data.append(round(df.values[i][0],2))"
   ]
  },
  {
   "cell_type": "code",
   "execution_count": 11,
   "id": "726be220-f490-4498-b562-be1a14ea27b1",
   "metadata": {},
   "outputs": [],
   "source": [
    "# Разделяем выборку на обучающую и тестовую для построения модели\n",
    "data_ = pd.Series(data) # Временной ряд\n",
    "\n",
    "n_train = 70\n",
    "n_test = 10\n",
    "\n",
    "data_train = data_[len(data_)-n_train-n_test:-n_test]\n",
    "data_test = data_[-n_test:]"
   ]
  },
  {
   "cell_type": "code",
   "execution_count": 12,
   "id": "a07eb139-522b-401b-aa46-a64d48e93112",
   "metadata": {},
   "outputs": [
    {
     "name": "stdout",
     "output_type": "stream",
     "text": [
      "/////////////\n",
      "n_train 30\n"
     ]
    },
    {
     "name": "stderr",
     "output_type": "stream",
     "text": [
      "sample: 100%|█████████████████████████████| 40/40 [00:04<00:00,  8.02it/s, 1023 steps of size 4.03e-03. acc. prob=0.20]\n",
      "sample: 100%|████████████████████████████| 40/40 [00:00<00:00, 182.00it/s, 1023 steps of size 1.25e-02. acc. prob=0.04]\n",
      "sample: 100%|████████████████████████████| 40/40 [00:00<00:00, 181.69it/s, 1023 steps of size 8.21e-03. acc. prob=0.12]\n",
      "sample: 100%|████████████████████████████| 40/40 [00:00<00:00, 181.39it/s, 1023 steps of size 1.63e-02. acc. prob=0.02]\n"
     ]
    },
    {
     "name": "stdout",
     "output_type": "stream",
     "text": [
      "num_warmup =  20\n",
      "num_samples =  20\n",
      "mse =  2.07\n"
     ]
    },
    {
     "name": "stderr",
     "output_type": "stream",
     "text": [
      "sample: 100%|█████████████████████████████| 50/50 [00:04<00:00, 10.43it/s, 1023 steps of size 2.72e-03. acc. prob=0.24]\n",
      "sample: 100%|████████████████████████████| 50/50 [00:00<00:00, 168.42it/s, 1023 steps of size 4.44e-03. acc. prob=0.10]\n",
      "sample: 100%|████████████████████████████| 50/50 [00:00<00:00, 152.37it/s, 1023 steps of size 5.40e-03. acc. prob=0.17]\n",
      "sample: 100%|████████████████████████████| 50/50 [00:00<00:00, 167.55it/s, 1023 steps of size 4.19e-03. acc. prob=0.20]\n"
     ]
    },
    {
     "name": "stdout",
     "output_type": "stream",
     "text": [
      "num_warmup =  25\n",
      "num_samples =  25\n",
      "mse =  4.74\n"
     ]
    },
    {
     "name": "stderr",
     "output_type": "stream",
     "text": [
      "sample: 100%|█████████████████████████████| 60/60 [00:05<00:00, 11.66it/s, 1023 steps of size 1.31e-03. acc. prob=0.65]\n",
      "sample: 100%|████████████████████████████| 60/60 [00:00<00:00, 115.29it/s, 1023 steps of size 1.97e-03. acc. prob=0.28]\n",
      "sample: 100%|████████████████████████████| 60/60 [00:00<00:00, 115.84it/s, 1023 steps of size 3.95e-03. acc. prob=0.23]\n",
      "sample: 100%|████████████████████████████| 60/60 [00:00<00:00, 112.06it/s, 1023 steps of size 4.87e-03. acc. prob=0.06]\n"
     ]
    },
    {
     "name": "stdout",
     "output_type": "stream",
     "text": [
      "num_warmup =  30\n",
      "num_samples =  30\n",
      "mse =  3.79\n"
     ]
    },
    {
     "name": "stderr",
     "output_type": "stream",
     "text": [
      "sample: 100%|███████████████████████████| 180/180 [00:06<00:00, 29.69it/s, 1023 steps of size 1.81e-03. acc. prob=0.78]\n",
      "sample: 100%|███████████████████████████| 180/180 [00:01<00:00, 96.93it/s, 1023 steps of size 2.53e-03. acc. prob=0.59]\n",
      "sample: 100%|██████████████████████████| 180/180 [00:01<00:00, 120.42it/s, 1023 steps of size 3.78e-03. acc. prob=0.36]\n",
      "sample: 100%|██████████████████████████| 180/180 [00:01<00:00, 105.42it/s, 1023 steps of size 8.34e-04. acc. prob=0.90]\n"
     ]
    },
    {
     "name": "stdout",
     "output_type": "stream",
     "text": [
      "num_warmup =  90\n",
      "num_samples =  90\n",
      "mse =  4.4\n",
      "/////////////\n",
      "n_train 45\n"
     ]
    },
    {
     "name": "stderr",
     "output_type": "stream",
     "text": [
      "sample: 100%|█████████████████████████████| 40/40 [00:05<00:00,  7.70it/s, 1023 steps of size 6.86e-03. acc. prob=0.13]\n",
      "sample: 100%|████████████████████████████| 40/40 [00:00<00:00, 125.12it/s, 1023 steps of size 8.63e-03. acc. prob=0.13]\n",
      "sample: 100%|█████████████████████████████| 40/40 [00:00<00:00, 86.05it/s, 1023 steps of size 6.28e-03. acc. prob=0.07]\n",
      "sample: 100%|████████████████████████████| 40/40 [00:00<00:00, 104.66it/s, 1023 steps of size 7.88e-03. acc. prob=0.13]\n"
     ]
    },
    {
     "name": "stdout",
     "output_type": "stream",
     "text": [
      "num_warmup =  20\n",
      "num_samples =  20\n",
      "mse =  1.2\n"
     ]
    },
    {
     "name": "stderr",
     "output_type": "stream",
     "text": [
      "sample: 100%|█████████████████████████████| 50/50 [00:05<00:00,  9.21it/s, 1023 steps of size 3.21e-03. acc. prob=0.28]\n",
      "sample: 100%|████████████████████████████| 50/50 [00:00<00:00, 105.83it/s, 1023 steps of size 7.22e-03. acc. prob=0.09]\n",
      "sample: 100%|█████████████████████████████| 50/50 [00:00<00:00, 92.54it/s, 1023 steps of size 2.93e-03. acc. prob=0.16]\n",
      "sample: 100%|████████████████████████████| 50/50 [00:00<00:00, 104.04it/s, 1023 steps of size 2.64e-03. acc. prob=0.30]\n"
     ]
    },
    {
     "name": "stdout",
     "output_type": "stream",
     "text": [
      "num_warmup =  25\n",
      "num_samples =  25\n",
      "mse =  2.91\n"
     ]
    },
    {
     "name": "stderr",
     "output_type": "stream",
     "text": [
      "sample: 100%|█████████████████████████████| 60/60 [00:05<00:00, 10.59it/s, 1023 steps of size 3.68e-03. acc. prob=0.19]\n",
      "sample: 100%|████████████████████████████| 60/60 [00:00<00:00, 103.39it/s, 1023 steps of size 4.31e-03. acc. prob=0.24]\n",
      "sample: 100%|█████████████████████████████| 60/60 [00:00<00:00, 99.57it/s, 1023 steps of size 1.96e-03. acc. prob=0.41]\n",
      "sample: 100%|█████████████████████████████| 60/60 [00:00<00:00, 93.50it/s, 1023 steps of size 1.51e-03. acc. prob=0.50]\n"
     ]
    },
    {
     "name": "stdout",
     "output_type": "stream",
     "text": [
      "num_warmup =  30\n",
      "num_samples =  30\n",
      "mse =  1.55\n"
     ]
    },
    {
     "name": "stderr",
     "output_type": "stream",
     "text": [
      "sample: 100%|███████████████████████████| 180/180 [00:07<00:00, 25.62it/s, 1023 steps of size 4.28e-03. acc. prob=0.37]\n",
      "sample: 100%|███████████████████████████| 180/180 [00:02<00:00, 73.45it/s, 1023 steps of size 9.85e-04. acc. prob=0.84]\n",
      "sample: 100%|███████████████████████████| 180/180 [00:02<00:00, 76.42it/s, 1023 steps of size 1.64e-03. acc. prob=0.79]\n",
      "sample: 100%|███████████████████████████| 180/180 [00:02<00:00, 81.20it/s, 1023 steps of size 1.15e-03. acc. prob=0.84]\n"
     ]
    },
    {
     "name": "stdout",
     "output_type": "stream",
     "text": [
      "num_warmup =  90\n",
      "num_samples =  90\n",
      "mse =  0.81\n",
      "/////////////\n",
      "n_train 60\n"
     ]
    },
    {
     "name": "stderr",
     "output_type": "stream",
     "text": [
      "sample: 100%|██████████████████████████████| 40/40 [00:07<00:00,  5.37it/s, 511 steps of size 1.21e-02. acc. prob=0.03]\n",
      "sample: 100%|█████████████████████████████| 40/40 [00:00<00:00, 79.41it/s, 1023 steps of size 5.01e-03. acc. prob=0.20]\n",
      "sample: 100%|█████████████████████████████| 40/40 [00:00<00:00, 99.01it/s, 1023 steps of size 1.08e-02. acc. prob=0.03]\n",
      "sample: 100%|█████████████████████████████| 40/40 [00:00<00:00, 91.84it/s, 1023 steps of size 7.57e-03. acc. prob=0.10]\n"
     ]
    },
    {
     "name": "stdout",
     "output_type": "stream",
     "text": [
      "num_warmup =  20\n",
      "num_samples =  20\n",
      "mse =  0.19\n"
     ]
    },
    {
     "name": "stderr",
     "output_type": "stream",
     "text": [
      "sample: 100%|█████████████████████████████| 50/50 [00:06<00:00,  8.14it/s, 1023 steps of size 2.93e-03. acc. prob=0.26]\n",
      "sample: 100%|█████████████████████████████| 50/50 [00:00<00:00, 69.85it/s, 1023 steps of size 3.63e-03. acc. prob=0.12]\n",
      "sample: 100%|█████████████████████████████| 50/50 [00:00<00:00, 71.76it/s, 1023 steps of size 4.72e-03. acc. prob=0.09]\n",
      "sample: 100%|█████████████████████████████| 50/50 [00:00<00:00, 74.05it/s, 1023 steps of size 5.11e-03. acc. prob=0.08]\n"
     ]
    },
    {
     "name": "stdout",
     "output_type": "stream",
     "text": [
      "num_warmup =  25\n",
      "num_samples =  25\n",
      "mse =  1.52\n"
     ]
    },
    {
     "name": "stderr",
     "output_type": "stream",
     "text": [
      "sample: 100%|█████████████████████████████| 60/60 [00:06<00:00,  8.95it/s, 1023 steps of size 2.03e-03. acc. prob=0.31]\n",
      "sample: 100%|█████████████████████████████| 60/60 [00:00<00:00, 69.32it/s, 1023 steps of size 1.70e-03. acc. prob=0.43]\n",
      "sample: 100%|█████████████████████████████| 60/60 [00:00<00:00, 79.67it/s, 1023 steps of size 1.99e-03. acc. prob=0.35]\n",
      "sample: 100%|█████████████████████████████| 60/60 [00:00<00:00, 77.63it/s, 1023 steps of size 1.61e-03. acc. prob=0.74]\n"
     ]
    },
    {
     "name": "stdout",
     "output_type": "stream",
     "text": [
      "num_warmup =  30\n",
      "num_samples =  30\n",
      "mse =  0.21\n"
     ]
    },
    {
     "name": "stderr",
     "output_type": "stream",
     "text": [
      "sample: 100%|███████████████████████████| 180/180 [00:08<00:00, 20.91it/s, 1023 steps of size 3.08e-03. acc. prob=0.63]\n",
      "sample: 100%|███████████████████████████| 180/180 [00:02<00:00, 64.35it/s, 1023 steps of size 1.06e-03. acc. prob=0.47]\n",
      "sample: 100%|███████████████████████████| 180/180 [00:02<00:00, 65.20it/s, 1023 steps of size 7.27e-04. acc. prob=0.89]\n",
      "sample: 100%|███████████████████████████| 180/180 [00:03<00:00, 58.18it/s, 1023 steps of size 1.88e-03. acc. prob=0.86]\n"
     ]
    },
    {
     "name": "stdout",
     "output_type": "stream",
     "text": [
      "num_warmup =  90\n",
      "num_samples =  90\n",
      "mse =  0.18\n",
      "/////////////\n",
      "n_train 70\n"
     ]
    },
    {
     "name": "stderr",
     "output_type": "stream",
     "text": [
      "sample: 100%|█████████████████████████████| 40/40 [00:05<00:00,  7.49it/s, 1023 steps of size 6.01e-03. acc. prob=0.12]\n",
      "sample: 100%|█████████████████████████████| 40/40 [00:00<00:00, 78.02it/s, 1023 steps of size 6.81e-03. acc. prob=0.20]\n",
      "sample: 100%|█████████████████████████████| 40/40 [00:00<00:00, 81.31it/s, 1023 steps of size 7.85e-03. acc. prob=0.07]\n",
      "sample: 100%|█████████████████████████████| 40/40 [00:00<00:00, 79.54it/s, 1023 steps of size 1.52e-02. acc. prob=0.02]\n"
     ]
    },
    {
     "name": "stdout",
     "output_type": "stream",
     "text": [
      "num_warmup =  20\n",
      "num_samples =  20\n",
      "mse =  4.75\n"
     ]
    },
    {
     "name": "stderr",
     "output_type": "stream",
     "text": [
      "sample: 100%|█████████████████████████████| 50/50 [00:05<00:00,  9.23it/s, 1023 steps of size 9.54e-03. acc. prob=0.02]\n",
      "sample: 100%|██████████████████████████████| 50/50 [00:00<00:00, 80.64it/s, 511 steps of size 1.05e-02. acc. prob=0.03]\n",
      "sample: 100%|█████████████████████████████| 50/50 [00:00<00:00, 66.43it/s, 1023 steps of size 4.19e-03. acc. prob=0.16]\n",
      "sample: 100%|█████████████████████████████| 50/50 [00:00<00:00, 75.17it/s, 1023 steps of size 4.84e-03. acc. prob=0.10]\n"
     ]
    },
    {
     "name": "stdout",
     "output_type": "stream",
     "text": [
      "num_warmup =  25\n",
      "num_samples =  25\n",
      "mse =  3.01\n"
     ]
    },
    {
     "name": "stderr",
     "output_type": "stream",
     "text": [
      "sample: 100%|█████████████████████████████| 60/60 [00:05<00:00, 11.31it/s, 1023 steps of size 1.68e-03. acc. prob=0.51]\n",
      "sample: 100%|█████████████████████████████| 60/60 [00:00<00:00, 69.44it/s, 1023 steps of size 2.16e-03. acc. prob=0.48]\n",
      "sample: 100%|█████████████████████████████| 60/60 [00:00<00:00, 72.78it/s, 1023 steps of size 2.14e-03. acc. prob=0.30]\n",
      "sample: 100%|█████████████████████████████| 60/60 [00:00<00:00, 65.75it/s, 1023 steps of size 2.18e-03. acc. prob=0.37]\n"
     ]
    },
    {
     "name": "stdout",
     "output_type": "stream",
     "text": [
      "num_warmup =  30\n",
      "num_samples =  30\n",
      "mse =  1.01\n"
     ]
    },
    {
     "name": "stderr",
     "output_type": "stream",
     "text": [
      "sample: 100%|████████████████████████████| 180/180 [00:07<00:00, 23.21it/s, 511 steps of size 3.92e-03. acc. prob=0.66]\n",
      "sample: 100%|███████████████████████████| 180/180 [00:03<00:00, 56.82it/s, 1023 steps of size 1.90e-03. acc. prob=0.56]\n",
      "sample: 100%|████████████████████████████| 180/180 [00:02<00:00, 72.36it/s, 105 steps of size 1.97e-03. acc. prob=0.61]\n",
      "sample: 100%|███████████████████████████| 180/180 [00:03<00:00, 58.44it/s, 1023 steps of size 1.75e-03. acc. prob=0.87]\n"
     ]
    },
    {
     "name": "stdout",
     "output_type": "stream",
     "text": [
      "num_warmup =  90\n",
      "num_samples =  90\n",
      "mse =  0.23\n"
     ]
    }
   ],
   "source": [
    "# Цикличная проверка для различных параметров\n",
    "import math\n",
    "\n",
    "n_train_list = [30,45,60,70]\n",
    "ws_list = [[20,20],[25,25],[30,30],[90,90]]\n",
    "\n",
    "for n_train in n_train_list:\n",
    "    data_train = data_[len(data_)-n_train-n_test:-n_test]\n",
    "    print('/////////////')\n",
    "    print('n_train', n_train)\n",
    "    for ws in ws_list:\n",
    "        w = ws[0]\n",
    "        s = ws[1]\n",
    "        model = bsts.BSTS(seasonality=45)\n",
    "        model.fit(data_train.values, num_warmup=w, num_samples=s)\n",
    "\n",
    "        # Предсказание\n",
    "        forecast = model.predict(n_test)\n",
    "        preds = forecast.mean(axis=0)\n",
    "\n",
    "        # Расчет MSE\n",
    "        mse = mean_squared_error(data_test.values, preds)\n",
    "        \n",
    "        print('num_warmup = ', w)\n",
    "        print('num_samples = ', s)\n",
    "        print('mse = ', round(mse,2))\n",
    "    "
   ]
  },
  {
   "cell_type": "code",
   "execution_count": 15,
   "id": "fb9364aa-d6ff-45fc-a58e-3fb8af48ad96",
   "metadata": {},
   "outputs": [
    {
     "name": "stderr",
     "output_type": "stream",
     "text": [
      "sample: 100%|████████████████████████████| 180/180 [00:07<00:00, 23.08it/s, 511 steps of size 3.92e-03. acc. prob=0.66]\n",
      "sample: 100%|███████████████████████████| 180/180 [00:02<00:00, 64.81it/s, 1023 steps of size 1.90e-03. acc. prob=0.56]\n",
      "sample: 100%|████████████████████████████| 180/180 [00:02<00:00, 80.22it/s, 105 steps of size 1.97e-03. acc. prob=0.61]\n",
      "sample: 100%|███████████████████████████| 180/180 [00:02<00:00, 65.03it/s, 1023 steps of size 1.75e-03. acc. prob=0.87]\n"
     ]
    },
    {
     "name": "stdout",
     "output_type": "stream",
     "text": [
      "mse =  0.2267\n"
     ]
    },
    {
     "data": {
      "image/png": "[encoded data removed]",
      "text/plain": [
       "<Figure size 640x480 with 1 Axes>"
      ]
     },
     "metadata": {},
     "output_type": "display_data"
    }
   ],
   "source": [
    "# Отображение одного результата на графике\n",
    "\n",
    "# Обучаем\n",
    "n_train = 60\n",
    "model = bsts.BSTS(seasonality=45)\n",
    "model.fit(data_train.values, num_warmup=90, num_samples=90)\n",
    "\n",
    "# Предсказываем\n",
    "forecast = model.predict(n_test)\n",
    "preds = forecast.mean(axis=0)\n",
    "\n",
    "mse = mean_squared_error(data_test.values, preds)\n",
    "print('mse = ', round(mse,4))\n",
    "\n",
    "# Строим график\n",
    "data_all = data_[-(n_test+n_train):]\n",
    "\n",
    "plt.plot(data_all, label='Истинные значения')\n",
    "plt.plot(range(len(data_) - n_test, len(data_)), preds, \"--\", label='Спрогнозированные значения')\n",
    "plt.xlabel('Временной период')\n",
    "plt.ylabel('Значение')\n",
    "plt.title('Модель BSTS (n={})'.format(n_train))\n",
    "plt.legend()\n",
    "plt.gcf().set_facecolor('white')\n",
    "plt.show()"
   ]
  },
  {
   "cell_type": "code",
   "execution_count": null,
   "id": "6093831d-ed0a-4480-bbb1-9ee76746904d",
   "metadata": {},
   "outputs": [],
   "source": []
  }
 ],
 "metadata": {
  "kernelspec": {
   "display_name": "Python 3 (ipykernel)",
   "language": "python",
   "name": "python3"
  },
  "language_info": {
   "codemirror_mode": {
    "name": "ipython",
    "version": 3
   },
   "file_extension": ".py",
   "mimetype": "text/x-python",
   "name": "python",
   "nbconvert_exporter": "python",
   "pygments_lexer": "ipython3",
   "version": "3.11.9"
  }
 },
 "nbformat": 4,
 "nbformat_minor": 5
}
